{
 "cells": [
  {
   "cell_type": "markdown",
   "id": "930c22d9",
   "metadata": {},
   "source": [
    "# Backtesting trading strategies on historical BTC/USDT data"
   ]
  },
  {
   "cell_type": "markdown",
   "id": "4aa81829",
   "metadata": {},
   "source": [
    "## Getting the data"
   ]
  },
  {
   "cell_type": "code",
   "execution_count": 1,
   "id": "6def0136",
   "metadata": {},
   "outputs": [],
   "source": [
    "import os\n",
    "import datetime\n",
    "\n",
    "import IPython\n",
    "import IPython.display\n",
    "import matplotlib as mpl\n",
    "import matplotlib.pyplot as plt\n",
    "import numpy as np\n",
    "import pandas as pd"
   ]
  },
  {
   "cell_type": "code",
   "execution_count": 2,
   "id": "7f356895",
   "metadata": {},
   "outputs": [],
   "source": [
    "csv_path = 'data\\BTCUSDT-1h-from-2017-08-to-2021-08.csv'\n",
    "\n",
    "df = pd.read_csv(csv_path)"
   ]
  },
  {
   "cell_type": "code",
   "execution_count": 3,
   "id": "0f56288f",
   "metadata": {},
   "outputs": [
    {
     "data": {
      "text/plain": [
       "['Open Time', 'Open', 'High', 'Low', 'Close', 'Volume']"
      ]
     },
     "execution_count": 3,
     "metadata": {},
     "output_type": "execute_result"
    }
   ],
   "source": [
    "column_indices = {name: i for i, name in enumerate(df.columns)}\n",
    "column_names = [name for i, name in enumerate(df.columns)]\n",
    "\n",
    "num_features = df.shape[1]\n",
    "column_names"
   ]
  },
  {
   "cell_type": "markdown",
   "id": "3606e574",
   "metadata": {},
   "source": [
    "## Optimal Theoretical Strategy"
   ]
  },
  {
   "cell_type": "markdown",
   "id": "20748784",
   "metadata": {},
   "source": [
    "By seeing the openning price of the next hour, you decide to buy or sell everything now."
   ]
  },
  {
   "cell_type": "code",
   "execution_count": 4,
   "id": "8bc8fd79",
   "metadata": {},
   "outputs": [],
   "source": [
    "#put a certain amount of USDT forward to buy BTC\n",
    "def buy(acc_usdt, acc_btc, buy_price, buy_amount):\n",
    "    if(acc_usdt >= buy_amount):\n",
    "        acc_usdt -= buy_amount\n",
    "        acc_btc += buy_amount/buy_price\n",
    "    return acc_usdt, acc_btc"
   ]
  },
  {
   "cell_type": "code",
   "execution_count": 5,
   "id": "56a4b25a",
   "metadata": {},
   "outputs": [],
   "source": [
    "#put a certain amount of BTC forward to buy USDT (aka sell)\n",
    "def sell(acc_usdt, acc_btc, sell_price, sell_amount):\n",
    "    if(acc_btc >= sell_amount):\n",
    "        acc_usdt += sell_amount*sell_price\n",
    "        acc_btc -= sell_amount\n",
    "    return acc_usdt, acc_btc"
   ]
  },
  {
   "cell_type": "code",
   "execution_count": 6,
   "id": "fcae1201",
   "metadata": {},
   "outputs": [
    {
     "name": "stdout",
     "output_type": "stream",
     "text": [
      "usdt = 0\n",
      "btc  = 0.0001\n",
      "usdt = 1.1\n",
      "btc  = 0.0\n"
     ]
    }
   ],
   "source": [
    "acc_usdt = 1\n",
    "acc_btc = 0\n",
    "\n",
    "acc_usdt, acc_btc = buy(acc_usdt, acc_btc, 10000, 1)\n",
    "print(\"usdt = \" + str(acc_usdt))\n",
    "print(\"btc  = \" + str(acc_btc))\n",
    "\n",
    "acc_usdt, acc_btc = sell(acc_usdt, acc_btc, 11000, acc_btc)\n",
    "print(\"usdt = \" + str(acc_usdt))\n",
    "print(\"btc  = \" + str(acc_btc))"
   ]
  },
  {
   "cell_type": "code",
   "execution_count": 7,
   "id": "48f16cb7",
   "metadata": {},
   "outputs": [
    {
     "name": "stdout",
     "output_type": "stream",
     "text": [
      "usdt = nan\n"
     ]
    },
    {
     "data": {
      "text/plain": [
       "[<matplotlib.lines.Line2D at 0x2794c5a31c0>]"
      ]
     },
     "execution_count": 7,
     "metadata": {},
     "output_type": "execute_result"
    },
    {
     "data": {
      "image/png": "[encoded data removed]",
      "text/plain": [
       "<Figure size 432x288 with 1 Axes>"
      ]
     },
     "metadata": {
      "needs_background": "light"
     },
     "output_type": "display_data"
    }
   ],
   "source": [
    "acc_usdt = 1\n",
    "acc_btc = 0\n",
    "\n",
    "prev_price = df['Open'][df.index[0]] #USDT\n",
    "acc_hist = [1]\n",
    "\n",
    "for i in range(1, len(df)):\n",
    "    curr_price = df['Open'][df.index[i]] #USDT\n",
    "    if(curr_price < prev_price):\n",
    "        acc_usdt, acc_btc = sell(acc_usdt, acc_btc, prev_price, acc_btc)\n",
    "    if(curr_price > prev_price):\n",
    "        acc_usdt, acc_btc = buy(acc_usdt, acc_btc, prev_price, acc_usdt)\n",
    "    acc_usdt_tmp, acc_btc_tmp = sell(acc_usdt, acc_btc, prev_price, acc_btc)\n",
    "    acc_hist.append(acc_usdt_tmp)\n",
    "    prev_price = curr_price\n",
    "\n",
    "acc_usdt, acc_btc = sell(acc_usdt, acc_btc, prev_price, acc_btc)\n",
    "print(\"usdt = \" + str(acc_usdt))\n",
    "\n",
    "plt.plot(acc_hist)\n",
    "#print(acc_hist, sep = \"\\n\")"
   ]
  },
  {
   "cell_type": "markdown",
   "id": "6a02b0b2",
   "metadata": {},
   "source": [
    "## 1st strategy : Always Holding"
   ]
  },
  {
   "cell_type": "code",
   "execution_count": 8,
   "id": "468cc11b",
   "metadata": {},
   "outputs": [
    {
     "name": "stdout",
     "output_type": "stream",
     "text": [
      "bought at   : 4261.48\n",
      "price is    : nan\n",
      "so you have : nan\n"
     ]
    }
   ],
   "source": [
    "buy_amount = 1 #USDT\n",
    "buy_price = df['Open'][df.index[0]] #USDT\n",
    "\n",
    "current_price = df['Open'][df.index[-1]] #USDT\n",
    "\n",
    "current_holding = current_price / (buy_amount * buy_price)\n",
    "\n",
    "print(\"bought at   : \" + str(buy_price))\n",
    "print(\"price is    : \" + str(current_price))\n",
    "print(\"so you have : \" + str(current_holding))"
   ]
  },
  {
   "cell_type": "markdown",
   "id": "9f8b5740",
   "metadata": {},
   "source": [
    "### 1.2 : Add 1USDT every hour"
   ]
  },
  {
   "cell_type": "code",
   "execution_count": 9,
   "id": "665ce636",
   "metadata": {},
   "outputs": [
    {
     "name": "stdout",
     "output_type": "stream",
     "text": [
      "you invested : 35154\n",
      "you have now : 207400.853755837\n"
     ]
    }
   ],
   "source": [
    "acc_usdt = 1\n",
    "acc_btc = 0\n",
    "\n",
    "prev_price = df['Open'][df.index[0]] #USDT\n",
    "acc_hist = [1]\n",
    "\n",
    "for i in range(0, len(df)-1):\n",
    "    curr_price = df['Open'][df.index[i]] #USDT\n",
    "    acc_usdt, acc_btc = buy(1, acc_btc, prev_price, 1)\n",
    "    acc_usdt_tmp, acc_btc_tmp = sell(acc_usdt, acc_btc, prev_price, acc_btc)\n",
    "    acc_hist.append(acc_usdt_tmp)\n",
    "    prev_price = curr_price\n",
    "\n",
    "acc_usdt, acc_btc = sell(0, acc_btc, prev_price, acc_btc)\n",
    "print(\"you invested : \" + str(len(df)))\n",
    "print(\"you have now : \" + str(acc_usdt))"
   ]
  },
  {
   "cell_type": "markdown",
   "id": "8ebfe3b2",
   "metadata": {},
   "source": [
    "## 2nd strategy : KDJ Oscillator"
   ]
  },
  {
   "cell_type": "code",
   "execution_count": 10,
   "id": "18376dd6",
   "metadata": {},
   "outputs": [],
   "source": [
    "def low(df, curr, p):\n",
    "    l = df['Low'][curr - p]\n",
    "    for i in range(curr - p + 1, curr + 1):\n",
    "        c = df['Low'][i]\n",
    "        if l > c :\n",
    "            l = c\n",
    "    return l\n",
    "\n",
    "#low(df, df.index[-1], 9)"
   ]
  },
  {
   "cell_type": "code",
   "execution_count": 11,
   "id": "af684d36",
   "metadata": {},
   "outputs": [],
   "source": [
    "def high(df, curr, p):\n",
    "    h = df['High'][curr - p]\n",
    "    for i in range(curr - p + 1, curr + 1):\n",
    "        c = df['High'][i]\n",
    "        if h < c :\n",
    "            h = c\n",
    "    return h\n",
    "\n",
    "#high(df, df.index[-1], 9)"
   ]
  },
  {
   "cell_type": "code",
   "execution_count": 12,
   "id": "1d26a6ab",
   "metadata": {},
   "outputs": [],
   "source": [
    "def k(df, curr, p):\n",
    "    return (df['Close'][curr] - low(df, curr, p))/(high(df, curr, p) - low(df, curr, p))\n",
    "\n",
    "#k(df, df.index[-1], 9)"
   ]
  },
  {
   "cell_type": "code",
   "execution_count": 13,
   "id": "acb68339",
   "metadata": {},
   "outputs": [],
   "source": [
    "def d(df, curr, q):\n",
    "    k_list = []\n",
    "    for i in range(q):\n",
    "        k_list.append(k(df, curr - q + i, q))\n",
    "    return sum(k_list) / len(k_list)\n",
    "#d(df, df.index[-1], 3)"
   ]
  },
  {
   "cell_type": "code",
   "execution_count": 14,
   "id": "ae5cc10f",
   "metadata": {},
   "outputs": [],
   "source": [
    "#NOT WORKING, NO IDEA WHAT I'M DOING BECAUSE TUTO IS FUCKED\n",
    "def j(df, curr, p, q):\n",
    "    return k(df, curr, p)*p + d(df, curr, p)*q\n",
    "#j(df, df.index[-1], 9, 3)"
   ]
  },
  {
   "cell_type": "code",
   "execution_count": 15,
   "id": "374ccdf7",
   "metadata": {},
   "outputs": [
    {
     "name": "stdout",
     "output_type": "stream",
     "text": [
      "usdt = 286823871633.5608\n"
     ]
    }
   ],
   "source": [
    "acc_usdt = 1\n",
    "acc_btc = 0\n",
    "\n",
    "prev_price = df['Open'][df.index[0]] #USDT\n",
    "acc_hist = [1]\n",
    "\n",
    "for i in range(10, len(df)-1):\n",
    "    curr_price = df['Open'][df.index[i]] #USDT\n",
    "    k_curr = k(df, df.index[i], 9)\n",
    "    d_curr = d(df, df.index[i], 3)\n",
    "    if(k_curr < d_curr):\n",
    "        acc_usdt, acc_btc = sell(acc_usdt, acc_btc, prev_price, acc_btc)\n",
    "    if(k_curr > d_curr):\n",
    "        acc_usdt, acc_btc = buy(acc_usdt, acc_btc, prev_price, acc_usdt)\n",
    "    acc_usdt_tmp, acc_btc_tmp = sell(acc_usdt, acc_btc, prev_price, acc_btc)\n",
    "    acc_hist.append(acc_usdt_tmp)\n",
    "    prev_price = curr_price\n",
    "\n",
    "acc_usdt, acc_btc = sell(acc_usdt, acc_btc, prev_price, acc_btc)\n",
    "print(\"usdt = \" + str(acc_usdt))"
   ]
  },
  {
   "cell_type": "code",
   "execution_count": 16,
   "id": "f61ef5c2",
   "metadata": {},
   "outputs": [
    {
     "data": {
      "text/plain": [
       "[<matplotlib.lines.Line2D at 0x2794c4b5b80>]"
      ]
     },
     "execution_count": 16,
     "metadata": {},
     "output_type": "execute_result"
    },
    {
     "data": {
      "image/png": "[encoded data removed]",
      "text/plain": [
       "<Figure size 432x288 with 1 Axes>"
      ]
     },
     "metadata": {
      "needs_background": "light"
     },
     "output_type": "display_data"
    }
   ],
   "source": [
    "plt.plot(acc_hist)"
   ]
  },
  {
   "cell_type": "markdown",
   "id": "a6751842",
   "metadata": {},
   "source": [
    "## Taking fees into account"
   ]
  },
  {
   "cell_type": "markdown",
   "id": "9faed82f",
   "metadata": {},
   "source": [
    "Binance takes at most 0.1% trading fee"
   ]
  },
  {
   "cell_type": "code",
   "execution_count": 17,
   "id": "09025aab",
   "metadata": {},
   "outputs": [],
   "source": [
    "#put a certain amount of USDT forward to buy BTC\n",
    "#Now with TAXES YEAH\n",
    "def buy_t(acc_usdt, acc_btc, buy_price, buy_amount):\n",
    "    if(acc_usdt >= buy_amount):\n",
    "        acc_usdt -= buy_amount\n",
    "        acc_btc += (buy_amount - buy_amount*0.001)/buy_price\n",
    "    return acc_usdt, acc_btc\n",
    "\n",
    "#put a certain amount of BTC forward to buy USDT (aka sell)\n",
    "#Now with TAXES YEAH\n",
    "def sell_t(acc_usdt, acc_btc, sell_price, sell_amount):\n",
    "    if(acc_btc >= sell_amount):\n",
    "        acc_usdt += (sell_amount - sell_amount*0.001)*sell_price\n",
    "        acc_btc -= sell_amount\n",
    "    return acc_usdt, acc_btc"
   ]
  },
  {
   "cell_type": "code",
   "execution_count": 18,
   "id": "57f9c878",
   "metadata": {},
   "outputs": [
    {
     "name": "stdout",
     "output_type": "stream",
     "text": [
      "usdt = 749158.1515070039\n"
     ]
    }
   ],
   "source": [
    "acc_usdt = 1\n",
    "acc_btc = 0\n",
    "\n",
    "prev_price = df['Open'][df.index[0]] #USDT\n",
    "acc_hist = [1]\n",
    "\n",
    "for i in range(10, len(df)-1):\n",
    "    curr_price = df['Open'][df.index[i]] #USDT\n",
    "    k_curr = k(df, df.index[i], 9)\n",
    "    d_curr = d(df, df.index[i], 3)\n",
    "    if(k_curr < d_curr):\n",
    "        acc_usdt, acc_btc = sell_t(acc_usdt, acc_btc, prev_price, acc_btc)\n",
    "    if(k_curr > d_curr):\n",
    "        acc_usdt, acc_btc = buy_t(acc_usdt, acc_btc, prev_price, acc_usdt)\n",
    "    \n",
    "    acc_usdt_tmp, acc_btc_tmp = sell_t(acc_usdt, acc_btc, prev_price, acc_btc)\n",
    "    acc_hist.append(acc_usdt_tmp)\n",
    "    prev_price = curr_price\n",
    "\n",
    "acc_usdt, acc_btc = sell(acc_usdt, acc_btc, prev_price, acc_btc)\n",
    "print(\"usdt = \" + str(acc_usdt))"
   ]
  },
  {
   "cell_type": "markdown",
   "id": "ca4f1e01",
   "metadata": {},
   "source": [
    "## Comparing different time steps"
   ]
  },
  {
   "cell_type": "code",
   "execution_count": 19,
   "id": "8b0d428b",
   "metadata": {},
   "outputs": [],
   "source": [
    "def kdj_fee(df):\n",
    "    acc_usdt = 1\n",
    "    acc_btc = 0\n",
    "\n",
    "    prev_price = df['Open'][df.index[0]] #USDT\n",
    "    acc_hist = [1]\n",
    "\n",
    "    for i in range(10, len(df)-1):\n",
    "        curr_price = df['Open'][df.index[i]] #USDT\n",
    "        k_curr = k(df, df.index[i], 9)\n",
    "        d_curr = d(df, df.index[i], 3)\n",
    "        if(k_curr < d_curr):\n",
    "            acc_usdt, acc_btc = sell_t(acc_usdt, acc_btc, prev_price, acc_btc)\n",
    "        if(k_curr > d_curr):\n",
    "            acc_usdt, acc_btc = buy_t(acc_usdt, acc_btc, prev_price, acc_usdt)\n",
    "\n",
    "        acc_usdt_tmp, acc_btc_tmp = sell_t(acc_usdt, acc_btc, prev_price, acc_btc)\n",
    "        acc_hist.append(acc_usdt_tmp)\n",
    "        prev_price = curr_price\n",
    "\n",
    "    acc_usdt, acc_btc = sell(acc_usdt, acc_btc, prev_price, acc_btc)\n",
    "    return acc_usdt"
   ]
  },
  {
   "cell_type": "code",
   "execution_count": 20,
   "id": "eb90e19c",
   "metadata": {},
   "outputs": [],
   "source": [
    "paths = ['data\\BTCUSDT-30m-from-2017-08-to-2021-08.csv',\n",
    "         'data\\BTCUSDT-1h-from-2017-08-to-2021-08.csv',\n",
    "         'data\\BTCUSDT-2h-from-2017-08-to-2021-08.csv',\n",
    "         'data\\BTCUSDT-2h-1h-from-2017-08-to-2021-08.csv',\n",
    "         'data\\BTCUSDT-4h-from-2017-08-to-2021-08.csv',\n",
    "         'data\\BTCUSDT-6h-from-2017-08-to-2021-08.csv',\n",
    "         'data\\BTCUSDT-1d-from-2017-08-to-2021-08.csv']\n",
    "\n",
    "cmp = []\n",
    "\n",
    "for i, e in enumerate(paths):\n",
    "    csv_path = paths[i]\n",
    "    df = pd.read_csv(csv_path)\n",
    "\n",
    "    cmp.append(kdj_fee(df))\n",
    "    "
   ]
  },
  {
   "cell_type": "code",
   "execution_count": 21,
   "id": "b9bb97b5",
   "metadata": {},
   "outputs": [
    {
     "data": {
      "image/png": "[encoded data removed]",
      "text/plain": [
       "<Figure size 432x288 with 1 Axes>"
      ]
     },
     "metadata": {
      "needs_background": "light"
     },
     "output_type": "display_data"
    }
   ],
   "source": [
    "fig, ax = plt.subplots()\n",
    "\n",
    "y_pos = np.arange(len(paths))\n",
    "\n",
    "ax.barh(y_pos, cmp, align='center', log=True)\n",
    "ax.set_yticks(y_pos, labels=paths)\n",
    "ax.invert_yaxis()\n",
    "ax.set_xlabel('USDT')\n",
    "ax.set_title('Analysis of time step influence on $')\n",
    "\n",
    "plt.show()"
   ]
  },
  {
   "cell_type": "markdown",
   "id": "5df1a295",
   "metadata": {},
   "source": [
    "Ok, apparently if i take 1/2 of the data of 1h, i get a massive boost, so let's try that better.\n",
    "So, given 1h data, we act every 2h instead of every 1h."
   ]
  },
  {
   "cell_type": "code",
   "execution_count": 22,
   "id": "c0e417cb",
   "metadata": {},
   "outputs": [],
   "source": [
    "def kdj_2H(df):\n",
    "    acc_usdt = 1\n",
    "    acc_btc = 0\n",
    "\n",
    "    prev_price = df['Open'][df.index[0]] #USDT\n",
    "    acc_hist = [1]\n",
    "\n",
    "    for i in range(30, len(df)-1, 2):\n",
    "        curr_price = df['Open'][df.index[i]] #USDT\n",
    "        k_curr = k(df, df.index[i], 9)\n",
    "        d_curr = d(df, df.index[i], 3)\n",
    "        if(k_curr < d_curr):\n",
    "            acc_usdt, acc_btc = sell_t(acc_usdt, acc_btc, prev_price, acc_btc)\n",
    "        if(k_curr > d_curr):\n",
    "            acc_usdt, acc_btc = buy_t(acc_usdt, acc_btc, prev_price, acc_usdt)\n",
    "\n",
    "        acc_usdt_tmp, acc_btc_tmp = sell_t(acc_usdt, acc_btc, prev_price, acc_btc)\n",
    "        acc_hist.append(acc_usdt_tmp)\n",
    "        prev_price = curr_price\n",
    "\n",
    "    acc_usdt, acc_btc = sell(acc_usdt, acc_btc, prev_price, acc_btc)\n",
    "    return acc_usdt"
   ]
  },
  {
   "cell_type": "code",
   "execution_count": 23,
   "id": "0335144c",
   "metadata": {},
   "outputs": [
    {
     "name": "stdout",
     "output_type": "stream",
     "text": [
      "10.887671062720928\n"
     ]
    }
   ],
   "source": [
    "csv_path = 'data\\BTCUSDT-1h-from-2017-08-to-2021-08.csv'\n",
    "df = pd.read_csv(csv_path)\n",
    "\n",
    "print(kdj_2H(df))"
   ]
  },
  {
   "cell_type": "markdown",
   "id": "597f8b35",
   "metadata": {},
   "source": [
    "Ah... maybe not then."
   ]
  },
  {
   "cell_type": "code",
   "execution_count": 54,
   "id": "87344912",
   "metadata": {},
   "outputs": [],
   "source": [
    "def kdj_2H_better(df):\n",
    "    acc_usdt = 1\n",
    "    acc_btc = 0\n",
    "\n",
    "    prev_price = df['Open'][df.index[0]] #USDT\n",
    "    acc_hist = [acc_usdt]\n",
    "\n",
    "    for i in range(30, len(df)-1, 2):\n",
    "        curr_price = df['Open'][df.index[i]] #USDT\n",
    "        k_curr = k(df, df.index[i], 30)\n",
    "        d_curr = d(df, df.index[i], 10)\n",
    "        if(k_curr < d_curr):\n",
    "            acc_usdt, acc_btc = sell_t(acc_usdt, acc_btc, prev_price, acc_btc)\n",
    "        if(k_curr > d_curr):\n",
    "            acc_usdt, acc_btc = buy_t(acc_usdt, acc_btc, prev_price, acc_usdt)\n",
    "\n",
    "        acc_usdt_tmp, acc_btc_tmp = sell_t(acc_usdt, acc_btc, prev_price, acc_btc)\n",
    "        acc_hist.append(acc_usdt_tmp)\n",
    "        prev_price = curr_price\n",
    "\n",
    "    acc_usdt, acc_btc = sell(acc_usdt, acc_btc, prev_price, acc_btc)\n",
    "    return acc_usdt, acc_hist"
   ]
  },
  {
   "cell_type": "code",
   "execution_count": 55,
   "id": "1b43c537",
   "metadata": {},
   "outputs": [],
   "source": [
    "csv_path = 'data\\BTCUSDT-1h-from-2017-08-to-2021-08.csv'\n",
    "df = pd.read_csv(csv_path)\n",
    "\n",
    "acc_usdt, acc_hist = kdj_2H_better(df)"
   ]
  },
  {
   "cell_type": "code",
   "execution_count": 56,
   "id": "6fe47eb7",
   "metadata": {},
   "outputs": [
    {
     "name": "stdout",
     "output_type": "stream",
     "text": [
      "378957105145.3662\n"
     ]
    }
   ],
   "source": [
    "print(acc_usdt)\n",
    "\n",
    "index = []\n",
    "for i,e in enumerate(acc_hist):\n",
    "    index.append([i, acc_hist[i]])\n",
    "print(*index, sep = '\\n')"
   ]
  },
  {
   "cell_type": "markdown",
   "id": "3373c2bc",
   "metadata": {},
   "source": [
    "## New plan: variation of the window length and the time step"
   ]
  },
  {
   "cell_type": "code",
   "execution_count": 88,
   "id": "f37596df",
   "metadata": {},
   "outputs": [],
   "source": [
    "def kdj_var(df, w):\n",
    "    acc_usdt = 1\n",
    "    acc_btc = 0\n",
    "\n",
    "    prev_price = df['Open'][df.index[0]] #USDT\n",
    "    acc_hist = [acc_usdt]\n",
    "\n",
    "    for i in range(3*w, len(df)-1):\n",
    "        curr_price = df['Open'][df.index[i]] #USDT\n",
    "        k_curr = k(df, df.index[i], 3*w)\n",
    "        d_curr = d(df, df.index[i], w)\n",
    "        if(k_curr < d_curr):\n",
    "            acc_usdt, acc_btc = sell_t(acc_usdt, acc_btc, prev_price, acc_btc)\n",
    "        if(k_curr > d_curr):\n",
    "            acc_usdt, acc_btc = buy_t(acc_usdt, acc_btc, prev_price, acc_usdt)\n",
    "\n",
    "        acc_usdt_tmp, acc_btc_tmp = sell_t(acc_usdt, acc_btc, prev_price, acc_btc)\n",
    "        acc_hist.append(acc_usdt_tmp)\n",
    "        prev_price = curr_price\n",
    "\n",
    "    acc_usdt, acc_btc = sell(acc_usdt, acc_btc, prev_price, acc_btc)\n",
    "    return acc_usdt"
   ]
  },
  {
   "cell_type": "code",
   "execution_count": 89,
   "id": "1c779d7b",
   "metadata": {},
   "outputs": [
    {
     "name": "stdout",
     "output_type": "stream",
     "text": [
    
     ]
    }
   ],
   "source": [
    "paths = ['data\\BTCUSDT-30m-from-2017-08-to-2021-08.csv',\n",
    "         'data\\BTCUSDT-1h-from-2017-08-to-2021-08.csv',\n",
    "         'data\\BTCUSDT-2h-from-2017-08-to-2021-08.csv',\n",
    "         'data\\BTCUSDT-2h-1h-from-2017-08-to-2021-08.csv',\n",
    "         'data\\BTCUSDT-4h-from-2017-08-to-2021-08.csv',\n",
    "         'data\\BTCUSDT-6h-from-2017-08-to-2021-08.csv',\n",
    "         'data\\BTCUSDT-1d-from-2017-08-to-2021-08.csv']\n",
    "\n",
    "cmp = np.zeros((7, 12))\n",
    "\n",
    "for i, e in enumerate(paths):\n",
    "    print(e)\n",
    "    for w in range(3, 12):\n",
    "        print(w)\n",
    "        csv_path = paths[i]\n",
    "        df = pd.read_csv(csv_path)\n",
    "\n",
    "        cmp[i][w] = kdj_var(df, w)"
   ]
  },
  {
   "cell_type": "code",
   "execution_count": 90,
   "id": "9387cc63",
   "metadata": {},
   "outputs": [
    {
     "data": {
      "text/plain": [
       "<matplotlib.image.AxesImage at 0x2794e436eb0>"
      ]
     },
     "execution_count": 90,
     "metadata": {},
     "output_type": "execute_result"
    },
    {
     "data": {
      "image/png": "[encoded data removed]",
      "text/plain": [
       "<Figure size 432x288 with 1 Axes>"
      ]
     },
     "metadata": {
      "needs_background": "light"
     },
     "output_type": "display_data"
    }
   ],
   "source": [
    "fig, ax = plt.subplots()\n",
    "\n",
    "ax.set_yticks(y_pos, labels=paths)\n",
    "ax.set_xlabel('w')\n",
    "ax.imshow(cmp, cmap='gray')"
   ]
  },
  {
   "cell_type": "code",
   "execution_count": 97,
   "id": "56a7d02d",
   "metadata": {},
   "outputs": [
    {
     "name": "stdout",
     "output_type": "stream",
     "text": [
      "[[0.00e+00 0.00e+00 0.00e+00 1.18e+03 1.55e+09 3.15e+12 1.53e+14 6.00e+14\n",
      "  1.87e+15 6.80e+15 7.89e+15 2.17e+16]\n",
      " [0.00e+00 0.00e+00 0.00e+00 7.49e+05 4.11e+09 1.60e+11 1.60e+12 6.21e+12\n",
      "  1.67e+13 1.14e+13 1.12e+13 7.20e+12]\n",
      " [0.00e+00 0.00e+00 0.00e+00 6.55e+05 9.80e+07 3.91e+08 7.44e+08 1.83e+09\n",
      "  3.92e+09 5.38e+09 7.05e+09 1.31e+10]\n",
      " [0.00e+00 0.00e+00 0.00e+00 3.87e+10 9.42e+11 1.23e+12 1.27e+12 1.86e+12\n",
      "  1.85e+12 1.52e+12 2.28e+12 1.94e+12]\n",
      " [0.00e+00 0.00e+00 0.00e+00 1.09e+04 8.23e+05 1.01e+07 2.64e+07 3.24e+07\n",
      "  5.37e+07 2.96e+07 3.18e+07 3.18e+07]\n",
      " [0.00e+00 0.00e+00 0.00e+00 1.90e+04 3.03e+05 2.67e+06 3.12e+06 3.75e+06\n",
      "  3.81e+06 4.44e+06 5.14e+06 3.04e+06]\n",
      " [0.00e+00 0.00e+00 0.00e+00 1.88e+02 8.92e+02 1.89e+03 2.96e+03 7.58e+03\n",
      "  7.05e+03 7.29e+03 4.64e+03 3.96e+03]]\n"
     ]
    }
   ],
   "source": [
    "np.set_printoptions(formatter={'float_kind':'{:.2e}'.format})\n",
    "print(cmp)"
   ]
  },
  {
   "cell_type": "markdown",
   "id": "b9375eaa",
   "metadata": {},
   "source": [
    "Ok, so maybe small time steps large windows then"
   ]
  }
 ],
 "metadata": {
  "kernelspec": {
   "display_name": "Python 3 (ipykernel)",
   "language": "python",
   "name": "python3"
  },
  "language_info": {
   "codemirror_mode": {
    "name": "ipython",
    "version": 3
   },
   "file_extension": ".py",
   "mimetype": "text/x-python",
   "name": "python",
   "nbconvert_exporter": "python",
   "pygments_lexer": "ipython3",
   "version": "3.9.5"
  }
 },
 "nbformat": 4,
 "nbformat_minor": 5
}
